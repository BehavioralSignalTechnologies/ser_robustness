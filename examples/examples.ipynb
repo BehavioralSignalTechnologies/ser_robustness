{
 "cells": [
  {
   "cell_type": "markdown",
   "metadata": {},
   "source": [
    "# Audio corruptions examples"
   ]
  },
  {
   "cell_type": "markdown",
   "metadata": {},
   "source": [
    "Imports & Definintion of necessary functions"
   ]
  },
  {
   "cell_type": "code",
   "execution_count": null,
   "metadata": {},
   "outputs": [],
   "source": [
    "from examples_helper import *\n",
    "import IPython.display as ipd\n",
    "import librosa"
   ]
  },
  {
   "cell_type": "markdown",
   "metadata": {},
   "source": [
    "## Load a **neutral** utterance and generate its corrupted versions"
   ]
  },
  {
   "cell_type": "markdown",
   "metadata": {},
   "source": [
    "Load the original neutral utterance"
   ]
  },
  {
   "cell_type": "code",
   "execution_count": null,
   "metadata": {},
   "outputs": [],
   "source": [
    "iemocap_audio = \"../../iemocap/neutral.wav\"\n",
    "label = \"neutral\"\n",
    "audio_data, sample_rate = librosa.load(iemocap_audio, sr=None)\n",
    "get_spectrogram(iemocap_audio, label)\n",
    "ipd.Audio(iemocap_audio)"
   ]
  },
  {
   "cell_type": "markdown",
   "metadata": {},
   "source": [
    "### Add **gaussian noise** (10 SNR)"
   ]
  },
  {
   "cell_type": "code",
   "execution_count": null,
   "metadata": {},
   "outputs": [],
   "source": [
    "neutral_gaussian = gaussian_corruption(label, audio_data, sample_rate)\n",
    "get_spectrogram(neutral_gaussian, label)\n",
    "ipd.Audio(neutral_gaussian)"
   ]
  },
  {
   "cell_type": "markdown",
   "metadata": {},
   "source": [
    "### **Add clipping distortion** (40%)"
   ]
  },
  {
   "cell_type": "code",
   "execution_count": null,
   "metadata": {},
   "outputs": [],
   "source": [
    "neutral_clipping = clipping_corruption(label, audio_data, sample_rate)\n",
    "get_spectrogram(neutral_clipping, label)\n",
    "ipd.Audio(neutral_clipping)"
   ]
  },
  {
   "cell_type": "markdown",
   "metadata": {},
   "source": [
    "### **Compress** audio (8kbps bit rate)"
   ]
  },
  {
   "cell_type": "code",
   "execution_count": null,
   "metadata": {},
   "outputs": [],
   "source": [
    "compressed_file = compress_audio(iemocap_audio, label, sample_rate)\n",
    "get_spectrogram(compressed_file, label)\n",
    "ipd.Audio(compressed_file)"
   ]
  },
  {
   "cell_type": "markdown",
   "metadata": {},
   "source": [
    "### Add **gain transition** (in [-30, -10] dB range)"
   ]
  },
  {
   "cell_type": "code",
   "execution_count": null,
   "metadata": {},
   "outputs": [],
   "source": [
    "neutral_gain = gain_corruption(label, audio_data, sample_rate)\n",
    "get_spectrogram(neutral_gain, label)\n",
    "ipd.Audio(neutral_gain)"
   ]
  },
  {
   "cell_type": "markdown",
   "metadata": {},
   "source": [
    "### Add **reverberation** (rt60 in 0.1 to 0.5 seconds)"
   ]
  },
  {
   "cell_type": "code",
   "execution_count": null,
   "metadata": {},
   "outputs": [],
   "source": [
    "reverb_audio = reverberation(label, audio_data, sample_rate)\n",
    "get_spectrogram(reverb_audio, label)\n",
    "ipd.Audio(reverb_audio)"
   ]
  },
  {
   "cell_type": "markdown",
   "metadata": {},
   "source": [
    "### Add background noise from ESC50 dataset (0dB)"
   ]
  },
  {
   "cell_type": "code",
   "execution_count": null,
   "metadata": {},
   "outputs": [],
   "source": [
    "esc_augmented = background_noise(label, audio_data, sample_rate, esc_config)\n",
    "get_spectrogram(esc_augmented, label)\n",
    "ipd.Audio(esc_augmented)"
   ]
  },
  {
   "cell_type": "markdown",
   "metadata": {},
   "source": [
    "### Add background noise from MUSAN (10dB)"
   ]
  },
  {
   "cell_type": "code",
   "execution_count": null,
   "metadata": {},
   "outputs": [],
   "source": [
    "musan_augmented = background_noise(label, audio_data, sample_rate, musan_config)\n",
    "get_spectrogram(musan_augmented, label)\n",
    "ipd.Audio(musan_augmented)"
   ]
  },
  {
   "cell_type": "markdown",
   "metadata": {},
   "source": [
    "### Add background noise from urbansound8k (20dB)"
   ]
  },
  {
   "cell_type": "code",
   "execution_count": null,
   "metadata": {},
   "outputs": [],
   "source": [
    "urban_augmented = background_noise(label, audio_data, sample_rate, urban_config)\n",
    "get_spectrogram(urban_augmented, label)\n",
    "ipd.Audio(urban_augmented)"
   ]
  },
  {
   "cell_type": "markdown",
   "metadata": {},
   "source": [
    "## Load a **happy** utterance and generate its corrupted versions"
   ]
  },
  {
   "cell_type": "markdown",
   "metadata": {},
   "source": [
    "Load the original happy utterance"
   ]
  },
  {
   "cell_type": "code",
   "execution_count": null,
   "metadata": {},
   "outputs": [],
   "source": [
    "iemocap_audio = \"../../iemocap/happy.wav\"\n",
    "label = \"happy\"\n",
    "audio_data, sample_rate = librosa.load(iemocap_audio, sr=None)\n",
    "get_spectrogram(iemocap_audio, label)\n",
    "ipd.Audio(iemocap_audio)"
   ]
  },
  {
   "cell_type": "markdown",
   "metadata": {},
   "source": [
    "### Add **gaussian noise** (10 SNR)"
   ]
  },
  {
   "cell_type": "code",
   "execution_count": null,
   "metadata": {},
   "outputs": [],
   "source": [
    "neutral_gaussian = gaussian_corruption(label, audio_data, sample_rate)\n",
    "get_spectrogram(neutral_gaussian, label)\n",
    "ipd.Audio(neutral_gaussian)"
   ]
  },
  {
   "cell_type": "markdown",
   "metadata": {},
   "source": [
    "### **Add clipping distortion** (40%)"
   ]
  },
  {
   "cell_type": "code",
   "execution_count": null,
   "metadata": {},
   "outputs": [],
   "source": [
    "neutral_clipping = clipping_corruption(label, audio_data, sample_rate)\n",
    "get_spectrogram(neutral_clipping, label)\n",
    "ipd.Audio(neutral_clipping)"
   ]
  },
  {
   "cell_type": "markdown",
   "metadata": {},
   "source": [
    "### **Compress** audio (8kbps bit rate)"
   ]
  },
  {
   "cell_type": "code",
   "execution_count": null,
   "metadata": {},
   "outputs": [],
   "source": [
    "compressed_file = compress_audio(iemocap_audio, label, sample_rate)\n",
    "get_spectrogram(compressed_file, label)\n",
    "ipd.Audio(compressed_file)"
   ]
  },
  {
   "cell_type": "markdown",
   "metadata": {},
   "source": [
    "### Add **gain transition** (in [-30, -10] dB range)"
   ]
  },
  {
   "cell_type": "code",
   "execution_count": null,
   "metadata": {},
   "outputs": [],
   "source": [
    "neutral_gain = gain_corruption(label, audio_data, sample_rate)\n",
    "get_spectrogram(neutral_gain, label)\n",
    "ipd.Audio(neutral_gain)"
   ]
  },
  {
   "cell_type": "markdown",
   "metadata": {},
   "source": [
    "### Add **reverberation** (rt60 in 0.1 to 0.5 seconds)"
   ]
  },
  {
   "cell_type": "code",
   "execution_count": null,
   "metadata": {},
   "outputs": [],
   "source": [
    "reverb_audio = reverberation(label, audio_data, sample_rate)\n",
    "get_spectrogram(reverb_audio, label)\n",
    "ipd.Audio(reverb_audio)"
   ]
  },
  {
   "cell_type": "markdown",
   "metadata": {},
   "source": [
    "### Add background noise from ESC50 dataset (0dB)"
   ]
  },
  {
   "cell_type": "code",
   "execution_count": null,
   "metadata": {},
   "outputs": [],
   "source": [
    "esc_augmented = background_noise(label, audio_data, sample_rate, esc_config)\n",
    "get_spectrogram(esc_augmented, label)\n",
    "ipd.Audio(esc_augmented)"
   ]
  },
  {
   "cell_type": "markdown",
   "metadata": {},
   "source": [
    "### Add background noise from MUSAN (10dB)"
   ]
  },
  {
   "cell_type": "code",
   "execution_count": null,
   "metadata": {},
   "outputs": [],
   "source": [
    "musan_augmented = background_noise(label, audio_data, sample_rate, musan_config)\n",
    "get_spectrogram(musan_augmented, label)\n",
    "ipd.Audio(musan_augmented)"
   ]
  },
  {
   "cell_type": "markdown",
   "metadata": {},
   "source": [
    "### Add background noise from urbansound8k (20dB)"
   ]
  },
  {
   "cell_type": "code",
   "execution_count": null,
   "metadata": {},
   "outputs": [],
   "source": [
    "urban_augmented = background_noise(label, audio_data, sample_rate, urban_config)\n",
    "get_spectrogram(urban_augmented, label)\n",
    "ipd.Audio(urban_augmented)"
   ]
  },
  {
   "cell_type": "markdown",
   "metadata": {},
   "source": [
    "## Load a **sad** utterance and generate its corrupted versions"
   ]
  },
  {
   "cell_type": "markdown",
   "metadata": {},
   "source": [
    "Load the original sad utterance"
   ]
  },
  {
   "cell_type": "code",
   "execution_count": null,
   "metadata": {},
   "outputs": [],
   "source": [
    "iemocap_audio = \"../../iemocap/sad.wav\"\n",
    "label = \"sad\"\n",
    "audio_data, sample_rate = librosa.load(iemocap_audio, sr=None)\n",
    "get_spectrogram(iemocap_audio, label)\n",
    "ipd.Audio(iemocap_audio)"
   ]
  },
  {
   "cell_type": "markdown",
   "metadata": {},
   "source": [
    "### Add **gaussian noise** (10 SNR)"
   ]
  },
  {
   "cell_type": "code",
   "execution_count": null,
   "metadata": {},
   "outputs": [],
   "source": [
    "neutral_gaussian = gaussian_corruption(label, audio_data, sample_rate)\n",
    "get_spectrogram(neutral_gaussian, label)\n",
    "ipd.Audio(neutral_gaussian)"
   ]
  },
  {
   "cell_type": "markdown",
   "metadata": {},
   "source": [
    "### **Add clipping distortion** (40%)"
   ]
  },
  {
   "cell_type": "code",
   "execution_count": null,
   "metadata": {},
   "outputs": [],
   "source": [
    "neutral_clipping = clipping_corruption(label, audio_data, sample_rate)\n",
    "get_spectrogram(neutral_clipping, label)\n",
    "ipd.Audio(neutral_clipping)"
   ]
  },
  {
   "cell_type": "markdown",
   "metadata": {},
   "source": [
    "### **Compress** audio (8kbps bit rate)"
   ]
  },
  {
   "cell_type": "code",
   "execution_count": null,
   "metadata": {},
   "outputs": [],
   "source": [
    "compressed_file = compress_audio(iemocap_audio, label, sample_rate)\n",
    "get_spectrogram(compressed_file, label)\n",
    "ipd.Audio(compressed_file)"
   ]
  },
  {
   "cell_type": "markdown",
   "metadata": {},
   "source": [
    "### Add **gain transition** (in [-30, -10] dB range)"
   ]
  },
  {
   "cell_type": "code",
   "execution_count": null,
   "metadata": {},
   "outputs": [],
   "source": [
    "neutral_gain = gain_corruption(label, audio_data, sample_rate)\n",
    "get_spectrogram(neutral_gain, label)\n",
    "ipd.Audio(neutral_gain)"
   ]
  },
  {
   "cell_type": "markdown",
   "metadata": {},
   "source": [
    "### Add **reverberation** (rt60 in 0.1 to 0.5 seconds)"
   ]
  },
  {
   "cell_type": "code",
   "execution_count": null,
   "metadata": {},
   "outputs": [],
   "source": [
    "reverb_audio = reverberation(label, audio_data, sample_rate)\n",
    "get_spectrogram(reverb_audio, label)\n",
    "ipd.Audio(reverb_audio)"
   ]
  },
  {
   "cell_type": "markdown",
   "metadata": {},
   "source": [
    "### Add background noise from ESC50 dataset (0dB)"
   ]
  },
  {
   "cell_type": "code",
   "execution_count": null,
   "metadata": {},
   "outputs": [],
   "source": [
    "esc_augmented = background_noise(label, audio_data, sample_rate, esc_config)\n",
    "get_spectrogram(esc_augmented, label)\n",
    "ipd.Audio(esc_augmented)"
   ]
  },
  {
   "cell_type": "markdown",
   "metadata": {},
   "source": [
    "### Add background noise from MUSAN (10dB)"
   ]
  },
  {
   "cell_type": "code",
   "execution_count": null,
   "metadata": {},
   "outputs": [],
   "source": [
    "musan_augmented = background_noise(label, audio_data, sample_rate, musan_config)\n",
    "get_spectrogram(musan_augmented, label)\n",
    "ipd.Audio(musan_augmented)"
   ]
  },
  {
   "cell_type": "markdown",
   "metadata": {},
   "source": [
    "### Add background noise from urbansound8k (20dB)"
   ]
  },
  {
   "cell_type": "code",
   "execution_count": null,
   "metadata": {},
   "outputs": [],
   "source": [
    "urban_augmented = background_noise(label, audio_data, sample_rate, urban_config)\n",
    "get_spectrogram(urban_augmented, label)\n",
    "ipd.Audio(urban_augmented)"
   ]
  },
  {
   "cell_type": "markdown",
   "metadata": {},
   "source": [
    "## Load an **angry** utterance and generate its corrupted versions"
   ]
  },
  {
   "cell_type": "markdown",
   "metadata": {},
   "source": [
    "Load the original angry utterance"
   ]
  },
  {
   "cell_type": "code",
   "execution_count": null,
   "metadata": {},
   "outputs": [],
   "source": [
    "iemocap_audio = \"../../iemocap/angry.wav\"\n",
    "label = \"angry\"\n",
    "audio_data, sample_rate = librosa.load(iemocap_audio, sr=None)\n",
    "get_spectrogram(iemocap_audio, label)\n",
    "ipd.Audio(iemocap_audio)"
   ]
  },
  {
   "cell_type": "markdown",
   "metadata": {},
   "source": [
    "### Add **gaussian noise** (10 SNR)"
   ]
  },
  {
   "cell_type": "code",
   "execution_count": null,
   "metadata": {},
   "outputs": [],
   "source": [
    "neutral_gaussian = gaussian_corruption(label, audio_data, sample_rate)\n",
    "get_spectrogram(neutral_gaussian, label)\n",
    "ipd.Audio(neutral_gaussian)"
   ]
  },
  {
   "cell_type": "markdown",
   "metadata": {},
   "source": [
    "### **Add clipping distortion** (40%)"
   ]
  },
  {
   "cell_type": "code",
   "execution_count": null,
   "metadata": {},
   "outputs": [],
   "source": [
    "neutral_clipping = clipping_corruption(label, audio_data, sample_rate)\n",
    "get_spectrogram(neutral_clipping, label)\n",
    "ipd.Audio(neutral_clipping)"
   ]
  },
  {
   "cell_type": "markdown",
   "metadata": {},
   "source": [
    "### **Compress** audio (8kbps bit rate)"
   ]
  },
  {
   "cell_type": "code",
   "execution_count": null,
   "metadata": {},
   "outputs": [],
   "source": [
    "compressed_file = compress_audio(iemocap_audio, label, sample_rate)\n",
    "get_spectrogram(compressed_file, label)\n",
    "ipd.Audio(compressed_file)"
   ]
  },
  {
   "cell_type": "markdown",
   "metadata": {},
   "source": [
    "### Add **gain transition** (in [-30, -10] dB range)"
   ]
  },
  {
   "cell_type": "code",
   "execution_count": null,
   "metadata": {},
   "outputs": [],
   "source": [
    "neutral_gain = gain_corruption(label, audio_data, sample_rate)\n",
    "get_spectrogram(neutral_gain, label)\n",
    "ipd.Audio(neutral_gain)"
   ]
  },
  {
   "cell_type": "markdown",
   "metadata": {},
   "source": [
    "### Add **reverberation** (rt60 in 0.1 to 0.5 seconds)"
   ]
  },
  {
   "cell_type": "code",
   "execution_count": null,
   "metadata": {},
   "outputs": [],
   "source": [
    "reverb_audio = reverberation(label, audio_data, sample_rate)\n",
    "get_spectrogram(reverb_audio, label)\n",
    "ipd.Audio(reverb_audio)"
   ]
  },
  {
   "cell_type": "markdown",
   "metadata": {},
   "source": [
    "### Add background noise from ESC50 dataset (0dB)"
   ]
  },
  {
   "cell_type": "code",
   "execution_count": null,
   "metadata": {},
   "outputs": [],
   "source": [
    "esc_augmented = background_noise(label, audio_data, sample_rate, esc_config)\n",
    "get_spectrogram(esc_augmented, label)\n",
    "ipd.Audio(esc_augmented)"
   ]
  },
  {
   "cell_type": "markdown",
   "metadata": {},
   "source": [
    "### Add background noise from MUSAN (10dB)"
   ]
  },
  {
   "cell_type": "code",
   "execution_count": null,
   "metadata": {},
   "outputs": [],
   "source": [
    "musan_augmented = background_noise(label, audio_data, sample_rate, musan_config)\n",
    "get_spectrogram(musan_augmented, label)\n",
    "ipd.Audio(musan_augmented)"
   ]
  },
  {
   "cell_type": "markdown",
   "metadata": {},
   "source": [
    "### Add background noise from urbansound8k (20dB)"
   ]
  },
  {
   "cell_type": "code",
   "execution_count": null,
   "metadata": {},
   "outputs": [],
   "source": [
    "urban_augmented = background_noise(label, audio_data, sample_rate, urban_config)\n",
    "get_spectrogram(urban_augmented, label)\n",
    "ipd.Audio(urban_augmented)"
   ]
  },
  {
   "cell_type": "code",
   "execution_count": null,
   "metadata": {},
   "outputs": [],
   "source": []
  }
 ],
 "metadata": {
  "kernelspec": {
   "display_name": ".venv",
   "language": "python",
   "name": "python3"
  },
  "language_info": {
   "codemirror_mode": {
    "name": "ipython",
    "version": 3
   },
   "file_extension": ".py",
   "mimetype": "text/x-python",
   "name": "python",
   "nbconvert_exporter": "python",
   "pygments_lexer": "ipython3",
   "version": "3.12.3"
  }
 },
 "nbformat": 4,
 "nbformat_minor": 4
}
